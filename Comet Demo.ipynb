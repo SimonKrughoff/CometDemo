{
 "cells": [
  {
   "cell_type": "markdown",
   "metadata": {},
   "source": [
    "#Comet Demo"
   ]
  },
  {
   "cell_type": "markdown",
   "metadata": {},
   "source": [
    "This demo requires the comet package and the requests package.  The requests package comes with Anaconda, but you will have to pip install the comet package.<br>\n",
    "`$> pip install comet`"
   ]
  },
  {
   "cell_type": "markdown",
   "metadata": {},
   "source": [
    "##The broker"
   ]
  },
  {
   "cell_type": "markdown",
   "metadata": {},
   "source": [
    "First spin up the broker. The broker is a comet instance operating in a read/broadcast mode.  This allows for users to post to the broker for further filtering and dissemination.  Subscribers can register with this broker."
   ]
  },
  {
   "cell_type": "code",
   "execution_count": 33,
   "metadata": {
    "collapsed": false
   },
   "outputs": [
    {
     "name": "stdout",
     "output_type": "stream",
     "text": [
      "Broker running in /var/folders/q2/3j92svhj3g16lxf08v1yc3280000gn/T/tmp3BA8wp with PID=41235\n"
     ]
    }
   ],
   "source": [
    "import tempfile, os, subprocess\n",
    "\n",
    "broker_dir = tempfile.mkdtemp()\n",
    "\n",
    "#start up a broker and save the pid so we can kill it\n",
    "              #receive and send\n",
    "command_str = \"twistd comet --eventdb=%s --receive --broadcast \"%(broker_dir)\n",
    "               #Specify ports to operate on\n",
    "command_str += \"--receive-port=8808 --broadcast-port=8809 \"\n",
    "               #The plugin prints all events to the log.  Also need a ivorn.\n",
    "command_str += \"--print-event --local-ivo=ivo://me.mybroker/comet_broker\"\n",
    "\n",
    "#Move to a working directory so we can sandbox multiple comet instances on one box\n",
    "os.chdir(broker_dir)\n",
    "subprocess.call(command_str.split())\n",
    "\n",
    "fh = open('twistd.pid')\n",
    "\n",
    "broker_pid = int(fh.readline().rstrip())\n",
    "print \"Broker running in %s with PID=%i\"%(broker_dir, broker_pid)"
   ]
  },
  {
   "cell_type": "markdown",
   "metadata": {},
   "source": [
    "I find it useful to watch the log file.  In some browsers (not Safari) you can do this by pointing your browser to `file://[path_from_above]/twistd.log`."
   ]
  },
  {
   "cell_type": "markdown",
   "metadata": {},
   "source": [
    "##The subscribers"
   ]
  },
  {
   "cell_type": "markdown",
   "metadata": {},
   "source": [
    "The subscription process is handled handled by the small web application in this repository."
   ]
  },
  {
   "cell_type": "markdown",
   "metadata": {
    "collapsed": true
   },
   "source": [
    "To run the web application, change to the top level directory of this git repository and run the following command:<br>\n",
    "`$> python web_listener.py`"
   ]
  },
  {
   "cell_type": "markdown",
   "metadata": {},
   "source": [
    "Now you can check out the web interface <a href=\"http://localhost:8880/\"> here</a>.  <br>\n",
    "Try making a new filter.  The default filter will pass all alerts on.  The broker address should be 'localhost:8809' unless you changed it in the code above.\n",
    "\n",
    "Alerts are XPATH strings and if the XPATH evaluates to a node in the XML VOEvent will evaluate to true.  For the purpose of this demo, we will be using query strings like `//Who/Author[contactName=\"KSK\"]`.  This query means \"Is this alert packet sent by an entity who's contact name is KSK?\""
   ]
  },
  {
   "cell_type": "markdown",
   "metadata": {},
   "source": [
    "##Generate and send alerts"
   ]
  },
  {
   "cell_type": "markdown",
   "metadata": {},
   "source": [
    "In order to test the interface, we need a way to generate alerts.  The follwoing code generates \"test\" alerts that can be used to demonstrate the functionality of the system without infringing on the operations of normal alerts."
   ]
  },
  {
   "cell_type": "code",
   "execution_count": 34,
   "metadata": {
    "collapsed": true
   },
   "outputs": [],
   "source": [
    "from random import randint\n",
    "from functools import partial\n",
    "def genAlertTxt(sender, outfile='testAlert.xml', idFactory=partial(randint, 10, 10000)):\n",
    "    \"\"\"Generate a test alert packet\n",
    "    @param[in] sender  String indicating the name of the sender of this packet\n",
    "    @param[in] outfile  Name of the file to store the output in\n",
    "    @param[in] idFactory  A function used to generate unique ids for each alert\n",
    "    \"\"\"\n",
    "    alertTmpl = \"\"\"<?xml version='1.0' encoding='UTF-8'?>\n",
    " <voe:VOEvent xmlns:voe=\"http://www.ivoa.net/xml/VOEvent/v2.0\"\n",
    "     xmlns:xsi=\"http://www.w3.org/2001/XMLSchema-instance\"\n",
    "     xsi:schemaLocation=\"http://www.ivoa.net/xml/VOEvent/v2.0\n",
    "         http://www.ivoa.net/xml/VOEvent/VOEvent-v2.0.xsd\"\n",
    "         version=\"2.0\" role=\"test\" ivorn=\"ivo://me.testevent/test_event_stream#{event_id}\">\n",
    "     <Who>\n",
    "         <AuthorIVORN>ivo://me.testevent/comet-author</AuthorIVORN>\n",
    "         <Author>\n",
    "             <shortName>Test Author</shortName>\n",
    "             <contactName>{sender}</contactName>\n",
    "         </Author>\n",
    "         <Date>2012-01-01T00:00:00</Date>\n",
    "     </Who>\n",
    " </voe:VOEvent>\n",
    "    \"\"\"\n",
    "    event_id = idFactory()\n",
    "    fh = open(outfile, 'w')\n",
    "    fh.write(alertTmpl.format(sender=sender, event_id=event_id))\n",
    "    fh.close()"
   ]
  },
  {
   "cell_type": "markdown",
   "metadata": {},
   "source": [
    "Now try sending a few alerts.  This can be done with the comet-sendvo tool. First generate a test alert and then send it using the command line tool.  Note the port should correspond to the port on which your broker spawned above is listening.  Like so:"
   ]
  },
  {
   "cell_type": "code",
   "execution_count": 35,
   "metadata": {
    "collapsed": false
   },
   "outputs": [
    {
     "name": "stdout",
     "output_type": "stream",
     "text": [
      "2015-05-31 17:59:25-0700 [-] Log opened.\r\n",
      "2015-05-31 17:59:25-0700 [-] Starting factory <__main__.OneShotSender instance at 0x104f5ebd8>\r\n",
      "2015-05-31 17:59:25-0700 [INFO VOEventSender,client] Acknowledgement received from IPv4Address(TCP, '127.0.0.1', 8808)\r\n",
      "2015-05-31 17:59:25-0700 [VOEventSender,client] Stopping factory <__main__.OneShotSender instance at 0x104f5ebd8>\r\n",
      "2015-05-31 17:59:25-0700 [INFO VOEventSender,client] Event was sent successfully\r\n",
      "2015-05-31 17:59:25-0700 [-] Main loop terminated.\r\n"
     ]
    }
   ],
   "source": [
    "genAlertTxt('KSK')\n",
    "!comet-sendvo --host=localhost --port=8808 < testAlert.xml"
   ]
  },
  {
   "cell_type": "markdown",
   "metadata": {},
   "source": [
    "The above can be used to spawn several alerts.  Experiment with queries and the registry."
   ]
  },
  {
   "cell_type": "code",
   "execution_count": null,
   "metadata": {
    "collapsed": true
   },
   "outputs": [],
   "source": []
  }
 ],
 "metadata": {
  "kernelspec": {
   "display_name": "Python 2",
   "language": "python",
   "name": "python2"
  },
  "language_info": {
   "codemirror_mode": {
    "name": "ipython",
    "version": 2
   },
   "file_extension": ".py",
   "mimetype": "text/x-python",
   "name": "python",
   "nbconvert_exporter": "python",
   "pygments_lexer": "ipython2",
   "version": "2.7.9"
  }
 },
 "nbformat": 4,
 "nbformat_minor": 0
}
